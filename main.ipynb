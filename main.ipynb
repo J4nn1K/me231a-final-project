{
 "cells": [
  {
   "cell_type": "code",
   "execution_count": 1,
   "metadata": {},
   "outputs": [
    {
     "ename": "IndentationError",
     "evalue": "unindent does not match any outer indentation level (simulator.py, line 10)",
     "output_type": "error",
     "traceback": [
      "Traceback \u001b[0;36m(most recent call last)\u001b[0m:\n",
      "\u001b[0m  File \u001b[1;32m~/miniconda3/lib/python3.9/site-packages/IPython/core/interactiveshell.py:3433\u001b[0m in \u001b[1;35mrun_code\u001b[0m\n    exec(code_obj, self.user_global_ns, self.user_ns)\u001b[0m\n",
      "\u001b[0;36m  Cell \u001b[0;32mIn [1], line 1\u001b[0;36m\n\u001b[0;31m    from src.simulator import Simulator\u001b[0;36m\n",
      "\u001b[0;36m  File \u001b[0;32m~/me231a/me231a-final-project/src/simulator.py:10\u001b[0;36m\u001b[0m\n\u001b[0;31m    self.m1 = model_parameters.m1\u001b[0m\n\u001b[0m                                 ^\u001b[0m\n\u001b[0;31mIndentationError\u001b[0m\u001b[0;31m:\u001b[0m unindent does not match any outer indentation level\n"
     ]
    }
   ],
   "source": [
    "from src.simulator import Simulator\n",
    "from src.model_parameters import ModelParameters"
   ]
  },
  {
   "attachments": {},
   "cell_type": "markdown",
   "metadata": {},
   "source": [
    "### Model Parameters"
   ]
  },
  {
   "cell_type": "code",
   "execution_count": null,
   "metadata": {},
   "outputs": [],
   "source": [
    "params_sim = ModelParameters\n",
    "params_mpc = ModelParameters\n",
    "\n",
    "params_sim.m1 = 0.5\n",
    "params_sim.m2 = 0.5\n",
    "params_sim.L1 = 0.5\n",
    "params_sim.L2 = 0.5\n",
    "params_sim.l1 = 0.5*L1\n",
    "params_sim.l2 = 0.5*L2\n",
    "params_sim.I1 = m1*l1**2\n",
    "params_sim.I2 = m2*l2**2"
   ]
  },
  {
   "cell_type": "code",
   "execution_count": null,
   "metadata": {},
   "outputs": [],
   "source": [
    "sim = Simulator(dt=0.025)\n",
    "sim.set_model_params(params_sim)"
   ]
  },
  {
   "cell_type": "code",
   "execution_count": null,
   "metadata": {},
   "outputs": [],
   "source": [
    "# sim.simulate()"
   ]
  }
 ],
 "metadata": {
  "kernelspec": {
   "display_name": "Python 3.9.12 ('base')",
   "language": "python",
   "name": "python3"
  },
  "language_info": {
   "codemirror_mode": {
    "name": "ipython",
    "version": 3
   },
   "file_extension": ".py",
   "mimetype": "text/x-python",
   "name": "python",
   "nbconvert_exporter": "python",
   "pygments_lexer": "ipython3",
   "version": "3.9.15"
  },
  "orig_nbformat": 4,
  "vscode": {
   "interpreter": {
    "hash": "e5f612b63848b98226aeead1cb489ad5e5d11deefbf43212d00d6d4334fa6b93"
   }
  }
 },
 "nbformat": 4,
 "nbformat_minor": 2
}
