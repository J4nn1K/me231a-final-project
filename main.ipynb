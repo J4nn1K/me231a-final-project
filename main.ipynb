{
 "cells": [
  {
   "cell_type": "code",
   "execution_count": 4,
   "metadata": {},
   "outputs": [],
   "source": [
    "from src.simulator import Simulator\n",
    "from src.model_parameters import ModelParameters"
   ]
  },
  {
   "attachments": {},
   "cell_type": "markdown",
   "metadata": {},
   "source": [
    "### Model Parameters"
   ]
  },
  {
   "cell_type": "code",
   "execution_count": 6,
   "metadata": {},
   "outputs": [],
   "source": [
    "m1 = 0.5\n",
    "m2 = 0.5\n",
    "L1 = 0.5\n",
    "L2 = 0.5\n",
    "l2 = 0.5*L2\n",
    "l1 = 0.5*L1\n",
    "I1 = m1*l1**2\n",
    "I2 = m2*l2**2"
   ]
  },
  {
   "cell_type": "code",
   "execution_count": 7,
   "metadata": {},
   "outputs": [],
   "source": [
    "params_sim = ModelParameters\n",
    "params_mpc = ModelParameters\n",
    "\n",
    "params_sim.m1 = m1\n",
    "params_sim.m2 = m2\n",
    "params_sim.L1 = L1\n",
    "params_sim.L2 = L2\n",
    "params_sim.l1 = l2\n",
    "params_sim.l2 = l1\n",
    "params_sim.I1 = I1\n",
    "params_sim.I2 = I2"
   ]
  },
  {
   "cell_type": "code",
   "execution_count": 8,
   "metadata": {},
   "outputs": [],
   "source": [
    "sim = Simulator(dt=0.025)\n",
    "sim.set_model_params(params_sim)"
   ]
  },
  {
   "cell_type": "code",
   "execution_count": null,
   "metadata": {},
   "outputs": [],
   "source": [
    "# sim.simulate()"
   ]
  }
 ],
 "metadata": {
  "kernelspec": {
   "display_name": "Python 3.9.12 ('base')",
   "language": "python",
   "name": "python3"
  },
  "language_info": {
   "codemirror_mode": {
    "name": "ipython",
    "version": 3
   },
   "file_extension": ".py",
   "mimetype": "text/x-python",
   "name": "python",
   "nbconvert_exporter": "python",
   "pygments_lexer": "ipython3",
   "version": "3.9.15"
  },
  "orig_nbformat": 4,
  "vscode": {
   "interpreter": {
    "hash": "e5f612b63848b98226aeead1cb489ad5e5d11deefbf43212d00d6d4334fa6b93"
   }
  }
 },
 "nbformat": 4,
 "nbformat_minor": 2
}
