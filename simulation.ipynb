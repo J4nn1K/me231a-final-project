{
 "cells": [
  {
   "cell_type": "code",
   "execution_count": 11,
   "metadata": {},
   "outputs": [],
   "source": [
    "from src.simulator import Simulator\n",
    "from src.model_parameters import ModelParameters"
   ]
  },
  {
   "cell_type": "code",
   "execution_count": 12,
   "metadata": {},
   "outputs": [],
   "source": [
    "import numpy as np\n",
    "import matplotlib.pyplot as plt\n",
    "%config InlineBackend.figure_formats = ['svg']"
   ]
  },
  {
   "attachments": {},
   "cell_type": "markdown",
   "metadata": {},
   "source": [
    "### Model Parameters"
   ]
  },
  {
   "cell_type": "code",
   "execution_count": 13,
   "metadata": {},
   "outputs": [],
   "source": [
    "m1 = 0.5\n",
    "m2 = 0.5\n",
    "L1 = 0.5\n",
    "L2 = 0.5\n",
    "l2 = 0.5*L2\n",
    "l1 = 0.5*L1\n",
    "I1 = m1*l1**2\n",
    "I2 = m2*l2**2"
   ]
  },
  {
   "cell_type": "code",
   "execution_count": 14,
   "metadata": {},
   "outputs": [],
   "source": [
    "params_sim = ModelParameters\n",
    "params_mpc = ModelParameters\n",
    "\n",
    "params_sim.m1 = m1\n",
    "params_sim.m2 = m2\n",
    "params_sim.L1 = L1\n",
    "params_sim.L2 = L2\n",
    "params_sim.l1 = l2\n",
    "params_sim.l2 = l1\n",
    "params_sim.I1 = I1\n",
    "params_sim.I2 = I2"
   ]
  },
  {
   "attachments": {},
   "cell_type": "markdown",
   "metadata": {},
   "source": [
    "### Simulation"
   ]
  },
  {
   "cell_type": "code",
   "execution_count": 15,
   "metadata": {},
   "outputs": [],
   "source": [
    "sim = Simulator(dt=0.025)\n",
    "sim.set_model_params(params_sim)"
   ]
  },
  {
   "cell_type": "code",
   "execution_count": 16,
   "metadata": {},
   "outputs": [],
   "source": [
    "x0 = [0.1, 0.1, 0, 0]\n",
    "steps = 100\n",
    "\n",
    "x_sim = np.ndarray((steps, 4))\n",
    "x_sim[0] = x0\n",
    "\n",
    "for i in range(steps-1):\n",
    "  x_sim[i+1] = sim.simulate_step(x=x_sim[i])\n"
   ]
  },
  {
   "cell_type": "code",
   "execution_count": 17,
   "metadata": {},
   "outputs": [
    {
     "data": {
      "image/svg+xml": "<?xml version=\"1.0\" encoding=\"utf-8\" standalone=\"no\"?>\n<!DOCTYPE svg PUBLIC \"-//W3C//DTD SVG 1.1//EN\"\n  \"http://www.w3.org/Graphics/SVG/1.1/DTD/svg11.dtd\">\n<svg xmlns:xlink=\"http://www.w3.org/1999/xlink\" width=\"409.165312pt\" height=\"300.741972pt\" viewBox=\"0 0 409.165312 300.741972\" xmlns=\"http://www.w3.org/2000/svg\" version=\"1.1\">\n <metadata>\n  <rdf:RDF xmlns:dc=\"http://purl.org/dc/elements/1.1/\" xmlns:cc=\"http://creativecommons.org/ns#\" xmlns:rdf=\"http://www.w3.org/1999/02/22-rdf-syntax-ns#\">\n   <cc:Work>\n    <dc:type rdf:resource=\"http://purl.org/dc/dcmitype/StillImage\"/>\n    <dc:date>2022-12-10T17:14:38.327130</dc:date>\n    <dc:format>image/svg+xml</dc:format>\n    <dc:creator>\n     <cc:Agent>\n      <dc:title>Matplotlib v3.6.2, https://matplotlib.org/</dc:title>\n     </cc:Agent>\n    </dc:creator>\n   </cc:Work>\n  </rdf:RDF>\n </metadata>\n <defs>\n  <style type=\"text/css\">*{stroke-linejoin: round; stroke-linecap: butt}</style>\n </defs>\n <g id=\"figure_1\">\n  <g id=\"patch_1\">\n   <path d=\"M 0 300.741972 \nL 409.165312 300.741972 \nL 409.165312 0 \nL 0 0 \nz\n\" style=\"fill: #ffffff\"/>\n  </g>\n  <g id=\"axes_1\">\n   <g id=\"patch_2\">\n    <path d=\"M 44.845313 276.863847 \nL 401.965312 276.863847 \nL 401.965312 10.751847 \nL 44.845313 10.751847 \nz\n\" style=\"fill: #ffffff\"/>\n   </g>\n   <g id=\"matplotlib.axis_1\">\n    <g id=\"xtick_1\">\n     <g id=\"line2d_1\">\n      <defs>\n       <path id=\"m6346461cb0\" d=\"M 0 0 \nL 0 3.5 \n\" style=\"stroke: #000000; stroke-width: 0.8\"/>\n      </defs>\n      <g>\n       <use xlink:href=\"#m6346461cb0\" x=\"61.07804\" y=\"276.863847\" style=\"stroke: #000000; stroke-width: 0.8\"/>\n      </g>\n     </g>\n     <g id=\"text_1\">\n      <!-- 0 -->\n      <g transform=\"translate(57.89679 291.462285) scale(0.1 -0.1)\">\n       <defs>\n        <path id=\"DejaVuSans-30\" d=\"M 2034 4250 \nQ 1547 4250 1301 3770 \nQ 1056 3291 1056 2328 \nQ 1056 1369 1301 889 \nQ 1547 409 2034 409 \nQ 2525 409 2770 889 \nQ 3016 1369 3016 2328 \nQ 3016 3291 2770 3770 \nQ 2525 4250 2034 4250 \nz\nM 2034 4750 \nQ 2819 4750 3233 4129 \nQ 3647 3509 3647 2328 \nQ 3647 1150 3233 529 \nQ 2819 -91 2034 -91 \nQ 1250 -91 836 529 \nQ 422 1150 422 2328 \nQ 422 3509 836 4129 \nQ 1250 4750 2034 4750 \nz\n\" transform=\"scale(0.015625)\"/>\n       </defs>\n       <use xlink:href=\"#DejaVuSans-30\"/>\n      </g>\n     </g>\n    </g>\n    <g id=\"xtick_2\">\n     <g id=\"line2d_2\">\n      <g>\n       <use xlink:href=\"#m6346461cb0\" x=\"126.664817\" y=\"276.863847\" style=\"stroke: #000000; stroke-width: 0.8\"/>\n      </g>\n     </g>\n     <g id=\"text_2\">\n      <!-- 20 -->\n      <g transform=\"translate(120.302317 291.462285) scale(0.1 -0.1)\">\n       <defs>\n        <path id=\"DejaVuSans-32\" d=\"M 1228 531 \nL 3431 531 \nL 3431 0 \nL 469 0 \nL 469 531 \nQ 828 903 1448 1529 \nQ 2069 2156 2228 2338 \nQ 2531 2678 2651 2914 \nQ 2772 3150 2772 3378 \nQ 2772 3750 2511 3984 \nQ 2250 4219 1831 4219 \nQ 1534 4219 1204 4116 \nQ 875 4013 500 3803 \nL 500 4441 \nQ 881 4594 1212 4672 \nQ 1544 4750 1819 4750 \nQ 2544 4750 2975 4387 \nQ 3406 4025 3406 3419 \nQ 3406 3131 3298 2873 \nQ 3191 2616 2906 2266 \nQ 2828 2175 2409 1742 \nQ 1991 1309 1228 531 \nz\n\" transform=\"scale(0.015625)\"/>\n       </defs>\n       <use xlink:href=\"#DejaVuSans-32\"/>\n       <use xlink:href=\"#DejaVuSans-30\" x=\"63.623047\"/>\n      </g>\n     </g>\n    </g>\n    <g id=\"xtick_3\">\n     <g id=\"line2d_3\">\n      <g>\n       <use xlink:href=\"#m6346461cb0\" x=\"192.251593\" y=\"276.863847\" style=\"stroke: #000000; stroke-width: 0.8\"/>\n      </g>\n     </g>\n     <g id=\"text_3\">\n      <!-- 40 -->\n      <g transform=\"translate(185.889093 291.462285) scale(0.1 -0.1)\">\n       <defs>\n        <path id=\"DejaVuSans-34\" d=\"M 2419 4116 \nL 825 1625 \nL 2419 1625 \nL 2419 4116 \nz\nM 2253 4666 \nL 3047 4666 \nL 3047 1625 \nL 3713 1625 \nL 3713 1100 \nL 3047 1100 \nL 3047 0 \nL 2419 0 \nL 2419 1100 \nL 313 1100 \nL 313 1709 \nL 2253 4666 \nz\n\" transform=\"scale(0.015625)\"/>\n       </defs>\n       <use xlink:href=\"#DejaVuSans-34\"/>\n       <use xlink:href=\"#DejaVuSans-30\" x=\"63.623047\"/>\n      </g>\n     </g>\n    </g>\n    <g id=\"xtick_4\">\n     <g id=\"line2d_4\">\n      <g>\n       <use xlink:href=\"#m6346461cb0\" x=\"257.83837\" y=\"276.863847\" style=\"stroke: #000000; stroke-width: 0.8\"/>\n      </g>\n     </g>\n     <g id=\"text_4\">\n      <!-- 60 -->\n      <g transform=\"translate(251.47587 291.462285) scale(0.1 -0.1)\">\n       <defs>\n        <path id=\"DejaVuSans-36\" d=\"M 2113 2584 \nQ 1688 2584 1439 2293 \nQ 1191 2003 1191 1497 \nQ 1191 994 1439 701 \nQ 1688 409 2113 409 \nQ 2538 409 2786 701 \nQ 3034 994 3034 1497 \nQ 3034 2003 2786 2293 \nQ 2538 2584 2113 2584 \nz\nM 3366 4563 \nL 3366 3988 \nQ 3128 4100 2886 4159 \nQ 2644 4219 2406 4219 \nQ 1781 4219 1451 3797 \nQ 1122 3375 1075 2522 \nQ 1259 2794 1537 2939 \nQ 1816 3084 2150 3084 \nQ 2853 3084 3261 2657 \nQ 3669 2231 3669 1497 \nQ 3669 778 3244 343 \nQ 2819 -91 2113 -91 \nQ 1303 -91 875 529 \nQ 447 1150 447 2328 \nQ 447 3434 972 4092 \nQ 1497 4750 2381 4750 \nQ 2619 4750 2861 4703 \nQ 3103 4656 3366 4563 \nz\n\" transform=\"scale(0.015625)\"/>\n       </defs>\n       <use xlink:href=\"#DejaVuSans-36\"/>\n       <use xlink:href=\"#DejaVuSans-30\" x=\"63.623047\"/>\n      </g>\n     </g>\n    </g>\n    <g id=\"xtick_5\">\n     <g id=\"line2d_5\">\n      <g>\n       <use xlink:href=\"#m6346461cb0\" x=\"323.425147\" y=\"276.863847\" style=\"stroke: #000000; stroke-width: 0.8\"/>\n      </g>\n     </g>\n     <g id=\"text_5\">\n      <!-- 80 -->\n      <g transform=\"translate(317.062647 291.462285) scale(0.1 -0.1)\">\n       <defs>\n        <path id=\"DejaVuSans-38\" d=\"M 2034 2216 \nQ 1584 2216 1326 1975 \nQ 1069 1734 1069 1313 \nQ 1069 891 1326 650 \nQ 1584 409 2034 409 \nQ 2484 409 2743 651 \nQ 3003 894 3003 1313 \nQ 3003 1734 2745 1975 \nQ 2488 2216 2034 2216 \nz\nM 1403 2484 \nQ 997 2584 770 2862 \nQ 544 3141 544 3541 \nQ 544 4100 942 4425 \nQ 1341 4750 2034 4750 \nQ 2731 4750 3128 4425 \nQ 3525 4100 3525 3541 \nQ 3525 3141 3298 2862 \nQ 3072 2584 2669 2484 \nQ 3125 2378 3379 2068 \nQ 3634 1759 3634 1313 \nQ 3634 634 3220 271 \nQ 2806 -91 2034 -91 \nQ 1263 -91 848 271 \nQ 434 634 434 1313 \nQ 434 1759 690 2068 \nQ 947 2378 1403 2484 \nz\nM 1172 3481 \nQ 1172 3119 1398 2916 \nQ 1625 2713 2034 2713 \nQ 2441 2713 2670 2916 \nQ 2900 3119 2900 3481 \nQ 2900 3844 2670 4047 \nQ 2441 4250 2034 4250 \nQ 1625 4250 1398 4047 \nQ 1172 3844 1172 3481 \nz\n\" transform=\"scale(0.015625)\"/>\n       </defs>\n       <use xlink:href=\"#DejaVuSans-38\"/>\n       <use xlink:href=\"#DejaVuSans-30\" x=\"63.623047\"/>\n      </g>\n     </g>\n    </g>\n    <g id=\"xtick_6\">\n     <g id=\"line2d_6\">\n      <g>\n       <use xlink:href=\"#m6346461cb0\" x=\"389.011924\" y=\"276.863847\" style=\"stroke: #000000; stroke-width: 0.8\"/>\n      </g>\n     </g>\n     <g id=\"text_6\">\n      <!-- 100 -->\n      <g transform=\"translate(379.468174 291.462285) scale(0.1 -0.1)\">\n       <defs>\n        <path id=\"DejaVuSans-31\" d=\"M 794 531 \nL 1825 531 \nL 1825 4091 \nL 703 3866 \nL 703 4441 \nL 1819 4666 \nL 2450 4666 \nL 2450 531 \nL 3481 531 \nL 3481 0 \nL 794 0 \nL 794 531 \nz\n\" transform=\"scale(0.015625)\"/>\n       </defs>\n       <use xlink:href=\"#DejaVuSans-31\"/>\n       <use xlink:href=\"#DejaVuSans-30\" x=\"63.623047\"/>\n       <use xlink:href=\"#DejaVuSans-30\" x=\"127.246094\"/>\n      </g>\n     </g>\n    </g>\n   </g>\n   <g id=\"matplotlib.axis_2\">\n    <g id=\"ytick_1\">\n     <g id=\"line2d_7\">\n      <defs>\n       <path id=\"m2e2350416b\" d=\"M 0 0 \nL -3.5 0 \n\" style=\"stroke: #000000; stroke-width: 0.8\"/>\n      </defs>\n      <g>\n       <use xlink:href=\"#m2e2350416b\" x=\"44.845313\" y=\"233.595065\" style=\"stroke: #000000; stroke-width: 0.8\"/>\n      </g>\n     </g>\n     <g id=\"text_7\">\n      <!-- −0.10 -->\n      <g transform=\"translate(7.2 237.394284) scale(0.1 -0.1)\">\n       <defs>\n        <path id=\"DejaVuSans-2212\" d=\"M 678 2272 \nL 4684 2272 \nL 4684 1741 \nL 678 1741 \nL 678 2272 \nz\n\" transform=\"scale(0.015625)\"/>\n        <path id=\"DejaVuSans-2e\" d=\"M 684 794 \nL 1344 794 \nL 1344 0 \nL 684 0 \nL 684 794 \nz\n\" transform=\"scale(0.015625)\"/>\n       </defs>\n       <use xlink:href=\"#DejaVuSans-2212\"/>\n       <use xlink:href=\"#DejaVuSans-30\" x=\"83.789062\"/>\n       <use xlink:href=\"#DejaVuSans-2e\" x=\"147.412109\"/>\n       <use xlink:href=\"#DejaVuSans-31\" x=\"179.199219\"/>\n       <use xlink:href=\"#DejaVuSans-30\" x=\"242.822266\"/>\n      </g>\n     </g>\n    </g>\n    <g id=\"ytick_2\">\n     <g id=\"line2d_8\">\n      <g>\n       <use xlink:href=\"#m2e2350416b\" x=\"44.845313\" y=\"189.075896\" style=\"stroke: #000000; stroke-width: 0.8\"/>\n      </g>\n     </g>\n     <g id=\"text_8\">\n      <!-- −0.05 -->\n      <g transform=\"translate(7.2 192.875115) scale(0.1 -0.1)\">\n       <defs>\n        <path id=\"DejaVuSans-35\" d=\"M 691 4666 \nL 3169 4666 \nL 3169 4134 \nL 1269 4134 \nL 1269 2991 \nQ 1406 3038 1543 3061 \nQ 1681 3084 1819 3084 \nQ 2600 3084 3056 2656 \nQ 3513 2228 3513 1497 \nQ 3513 744 3044 326 \nQ 2575 -91 1722 -91 \nQ 1428 -91 1123 -41 \nQ 819 9 494 109 \nL 494 744 \nQ 775 591 1075 516 \nQ 1375 441 1709 441 \nQ 2250 441 2565 725 \nQ 2881 1009 2881 1497 \nQ 2881 1984 2565 2268 \nQ 2250 2553 1709 2553 \nQ 1456 2553 1204 2497 \nQ 953 2441 691 2322 \nL 691 4666 \nz\n\" transform=\"scale(0.015625)\"/>\n       </defs>\n       <use xlink:href=\"#DejaVuSans-2212\"/>\n       <use xlink:href=\"#DejaVuSans-30\" x=\"83.789062\"/>\n       <use xlink:href=\"#DejaVuSans-2e\" x=\"147.412109\"/>\n       <use xlink:href=\"#DejaVuSans-30\" x=\"179.199219\"/>\n       <use xlink:href=\"#DejaVuSans-35\" x=\"242.822266\"/>\n      </g>\n     </g>\n    </g>\n    <g id=\"ytick_3\">\n     <g id=\"line2d_9\">\n      <g>\n       <use xlink:href=\"#m2e2350416b\" x=\"44.845313\" y=\"144.556727\" style=\"stroke: #000000; stroke-width: 0.8\"/>\n      </g>\n     </g>\n     <g id=\"text_9\">\n      <!-- 0.00 -->\n      <g transform=\"translate(15.579688 148.355945) scale(0.1 -0.1)\">\n       <use xlink:href=\"#DejaVuSans-30\"/>\n       <use xlink:href=\"#DejaVuSans-2e\" x=\"63.623047\"/>\n       <use xlink:href=\"#DejaVuSans-30\" x=\"95.410156\"/>\n       <use xlink:href=\"#DejaVuSans-30\" x=\"159.033203\"/>\n      </g>\n     </g>\n    </g>\n    <g id=\"ytick_4\">\n     <g id=\"line2d_10\">\n      <g>\n       <use xlink:href=\"#m2e2350416b\" x=\"44.845313\" y=\"100.037557\" style=\"stroke: #000000; stroke-width: 0.8\"/>\n      </g>\n     </g>\n     <g id=\"text_10\">\n      <!-- 0.05 -->\n      <g transform=\"translate(15.579688 103.836776) scale(0.1 -0.1)\">\n       <use xlink:href=\"#DejaVuSans-30\"/>\n       <use xlink:href=\"#DejaVuSans-2e\" x=\"63.623047\"/>\n       <use xlink:href=\"#DejaVuSans-30\" x=\"95.410156\"/>\n       <use xlink:href=\"#DejaVuSans-35\" x=\"159.033203\"/>\n      </g>\n     </g>\n    </g>\n    <g id=\"ytick_5\">\n     <g id=\"line2d_11\">\n      <g>\n       <use xlink:href=\"#m2e2350416b\" x=\"44.845313\" y=\"55.518388\" style=\"stroke: #000000; stroke-width: 0.8\"/>\n      </g>\n     </g>\n     <g id=\"text_11\">\n      <!-- 0.10 -->\n      <g transform=\"translate(15.579688 59.317607) scale(0.1 -0.1)\">\n       <use xlink:href=\"#DejaVuSans-30\"/>\n       <use xlink:href=\"#DejaVuSans-2e\" x=\"63.623047\"/>\n       <use xlink:href=\"#DejaVuSans-31\" x=\"95.410156\"/>\n       <use xlink:href=\"#DejaVuSans-30\" x=\"159.033203\"/>\n      </g>\n     </g>\n    </g>\n    <g id=\"ytick_6\">\n     <g id=\"line2d_12\">\n      <g>\n       <use xlink:href=\"#m2e2350416b\" x=\"44.845313\" y=\"10.999219\" style=\"stroke: #000000; stroke-width: 0.8\"/>\n      </g>\n     </g>\n     <g id=\"text_12\">\n      <!-- 0.15 -->\n      <g transform=\"translate(15.579688 14.798438) scale(0.1 -0.1)\">\n       <use xlink:href=\"#DejaVuSans-30\"/>\n       <use xlink:href=\"#DejaVuSans-2e\" x=\"63.623047\"/>\n       <use xlink:href=\"#DejaVuSans-31\" x=\"95.410156\"/>\n       <use xlink:href=\"#DejaVuSans-35\" x=\"159.033203\"/>\n      </g>\n     </g>\n    </g>\n   </g>\n   <g id=\"line2d_13\">\n    <path d=\"M 61.07804 55.518388 \nL 64.357379 54.715871 \nL 67.636717 52.460492 \nL 70.916056 49.204683 \nL 74.195395 45.673286 \nL 77.474734 42.780801 \nL 80.754073 41.48377 \nL 84.033412 42.606169 \nL 87.312751 46.698429 \nL 90.592089 53.960721 \nL 93.871428 64.220258 \nL 97.150767 76.94507 \nL 100.430106 91.298958 \nL 103.709445 106.253551 \nL 106.988784 120.749828 \nL 110.268122 133.864401 \nL 113.547461 144.931766 \nL 116.8268 153.610241 \nL 120.106139 159.910334 \nL 123.385478 164.199085 \nL 126.664817 167.164537 \nL 129.944155 169.71056 \nL 133.223494 172.782915 \nL 136.502833 177.182448 \nL 139.782172 183.433337 \nL 143.061511 191.727515 \nL 146.34085 201.918951 \nL 149.620189 213.539228 \nL 152.899527 225.834027 \nL 156.178866 237.843664 \nL 159.458205 248.540182 \nL 162.737544 256.994567 \nL 166.016883 262.521495 \nL 169.296222 264.767847 \nL 172.57556 263.748353 \nL 175.854899 259.842845 \nL 179.134238 253.751825 \nL 182.413577 246.393797 \nL 185.692916 238.749816 \nL 188.972255 231.698944 \nL 192.251593 225.897418 \nL 195.530932 221.717773 \nL 198.810271 219.226659 \nL 202.08961 218.17644 \nL 205.368949 218.011734 \nL 208.648288 217.919713 \nL 211.927627 216.951865 \nL 215.206965 214.201498 \nL 218.486304 208.975344 \nL 221.765643 200.904118 \nL 225.044982 189.985963 \nL 228.324321 176.586593 \nL 231.60366 161.407876 \nL 234.882998 145.41058 \nL 238.162337 129.67844 \nL 241.441676 115.245625 \nL 244.721015 102.940464 \nL 248.000354 93.283759 \nL 251.279693 86.440402 \nL 254.559032 82.205204 \nL 257.83837 80.022689 \nL 261.117709 79.064448 \nL 264.397048 78.377954 \nL 267.676387 77.071992 \nL 270.955726 74.470902 \nL 274.235065 70.196328 \nL 277.514403 64.188674 \nL 280.793742 56.70201 \nL 284.073081 48.287901 \nL 287.35242 39.752518 \nL 290.631759 32.060528 \nL 293.911098 26.183957 \nL 297.190436 22.936736 \nL 300.469775 22.847847 \nL 303.749114 26.094365 \nL 307.028453 32.482713 \nL 310.307792 41.466964 \nL 313.587131 52.213619 \nL 316.86647 63.725104 \nL 320.145808 75.003605 \nL 323.425147 85.205275 \nL 326.704486 93.74294 \nL 329.983825 100.336175 \nL 333.263164 105.03276 \nL 336.542503 108.214659 \nL 339.821841 110.570604 \nL 343.10118 113.001904 \nL 346.380519 116.455892 \nL 349.659858 121.737249 \nL 352.939197 129.366971 \nL 356.218536 139.516426 \nL 359.497874 151.995955 \nL 362.777213 166.272367 \nL 366.056552 181.516611 \nL 369.335891 196.702612 \nL 372.61523 210.760575 \nL 375.894569 222.748183 \nL 379.173908 231.986902 \nL 382.453246 238.139611 \nL 385.732585 241.240278 \n\" clip-path=\"url(#p49cd322707)\" style=\"fill: none; stroke: #1f77b4; stroke-width: 1.5; stroke-linecap: square\"/>\n   </g>\n   <g id=\"line2d_14\">\n    <path d=\"M 61.07804 55.518388 \nL 64.357379 59.669627 \nL 67.636717 71.605347 \nL 70.916056 89.788173 \nL 74.195395 111.760168 \nL 77.474734 134.42104 \nL 80.754073 154.514855 \nL 84.033412 169.202127 \nL 87.312751 176.52258 \nL 90.592089 175.650266 \nL 93.871428 166.972976 \nL 97.150767 152.050451 \nL 100.430106 133.434697 \nL 103.709445 114.300808 \nL 106.988784 97.914395 \nL 110.268122 87.082433 \nL 113.547461 83.748458 \nL 116.8268 88.774895 \nL 120.106139 101.853681 \nL 123.385478 121.500456 \nL 126.664817 145.180081 \nL 129.944155 169.655917 \nL 133.223494 191.558672 \nL 136.502833 207.996479 \nL 139.782172 216.989646 \nL 143.061511 217.661454 \nL 146.34085 210.266487 \nL 149.620189 196.144898 \nL 152.899527 177.602073 \nL 156.178866 157.640116 \nL 159.458205 139.503721 \nL 162.737544 126.128918 \nL 166.016883 119.666644 \nL 169.296222 121.191263 \nL 172.57556 130.583688 \nL 175.854899 146.542127 \nL 179.134238 166.730372 \nL 182.413577 188.116104 \nL 185.692916 207.481341 \nL 188.972255 221.964003 \nL 192.251593 229.459223 \nL 195.530932 228.82528 \nL 198.810271 219.959624 \nL 202.08961 203.82349 \nL 205.368949 182.412313 \nL 208.648288 158.582095 \nL 211.927627 135.646029 \nL 215.206965 116.793439 \nL 218.486304 104.528435 \nL 221.765643 100.30454 \nL 225.044982 104.375338 \nL 228.324321 115.787192 \nL 231.60366 132.478922 \nL 234.882998 151.535861 \nL 238.162337 169.638601 \nL 241.441676 183.632501 \nL 244.721015 191.043726 \nL 248.000354 190.414802 \nL 251.279693 181.461861 \nL 254.559032 165.115198 \nL 257.83837 143.4465 \nL 261.117709 119.409766 \nL 264.397048 96.353106 \nL 267.676387 77.412882 \nL 270.955726 65.006725 \nL 274.235065 60.558477 \nL 277.514403 64.418465 \nL 280.793742 75.87403 \nL 284.073081 93.202658 \nL 287.35242 113.817639 \nL 290.631759 134.589113 \nL 293.911098 152.343129 \nL 297.190436 164.405404 \nL 300.469775 169.018467 \nL 303.749114 165.563295 \nL 307.028453 154.622466 \nL 310.307792 137.920373 \nL 313.587131 118.109701 \nL 316.86647 98.365002 \nL 320.145808 81.843356 \nL 323.425147 71.174818 \nL 326.704486 68.120524 \nL 329.983825 73.405233 \nL 333.263164 86.649151 \nL 336.542503 106.35622 \nL 339.821841 130.013831 \nL 343.10118 154.407594 \nL 346.380519 176.167114 \nL 349.659858 192.381931 \nL 352.939197 201.065214 \nL 356.218536 201.377099 \nL 359.497874 193.67124 \nL 362.777213 179.443491 \nL 366.056552 161.176429 \nL 369.335891 142.012284 \nL 372.61523 125.246227 \nL 375.894569 113.761517 \nL 379.173908 109.58009 \nL 382.453246 113.607453 \nL 385.732585 125.537917 \n\" clip-path=\"url(#p49cd322707)\" style=\"fill: none; stroke: #ff7f0e; stroke-width: 1.5; stroke-linecap: square\"/>\n   </g>\n   <g id=\"patch_3\">\n    <path d=\"M 44.845313 276.863847 \nL 44.845313 10.751847 \n\" style=\"fill: none; stroke: #000000; stroke-width: 0.8; stroke-linejoin: miter; stroke-linecap: square\"/>\n   </g>\n   <g id=\"patch_4\">\n    <path d=\"M 401.965312 276.863847 \nL 401.965312 10.751847 \n\" style=\"fill: none; stroke: #000000; stroke-width: 0.8; stroke-linejoin: miter; stroke-linecap: square\"/>\n   </g>\n   <g id=\"patch_5\">\n    <path d=\"M 44.845313 276.863847 \nL 401.965312 276.863847 \n\" style=\"fill: none; stroke: #000000; stroke-width: 0.8; stroke-linejoin: miter; stroke-linecap: square\"/>\n   </g>\n   <g id=\"patch_6\">\n    <path d=\"M 44.845313 10.751847 \nL 401.965312 10.751847 \n\" style=\"fill: none; stroke: #000000; stroke-width: 0.8; stroke-linejoin: miter; stroke-linecap: square\"/>\n   </g>\n  </g>\n </g>\n <defs>\n  <clipPath id=\"p49cd322707\">\n   <rect x=\"44.845313\" y=\"10.751847\" width=\"357.12\" height=\"266.112\"/>\n  </clipPath>\n </defs>\n</svg>\n",
      "text/plain": [
       "<Figure size 640x480 with 1 Axes>"
      ]
     },
     "metadata": {},
     "output_type": "display_data"
    }
   ],
   "source": [
    "plt.plot(x_sim[:,0])\n",
    "plt.plot(x_sim[:,1])\n",
    "plt.show()"
   ]
  },
  {
   "cell_type": "code",
   "execution_count": null,
   "metadata": {},
   "outputs": [],
   "source": []
  }
 ],
 "metadata": {
  "kernelspec": {
   "display_name": "Python 3.9.12 ('base')",
   "language": "python",
   "name": "python3"
  },
  "language_info": {
   "codemirror_mode": {
    "name": "ipython",
    "version": 3
   },
   "file_extension": ".py",
   "mimetype": "text/x-python",
   "name": "python",
   "nbconvert_exporter": "python",
   "pygments_lexer": "ipython3",
   "version": "3.9.15"
  },
  "orig_nbformat": 4,
  "vscode": {
   "interpreter": {
    "hash": "e5f612b63848b98226aeead1cb489ad5e5d11deefbf43212d00d6d4334fa6b93"
   }
  }
 },
 "nbformat": 4,
 "nbformat_minor": 2
}
